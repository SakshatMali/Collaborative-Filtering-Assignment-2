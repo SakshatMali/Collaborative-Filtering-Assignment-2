{
 "cells": [
  {
   "cell_type": "code",
   "execution_count": 81,
   "metadata": {},
   "outputs": [],
   "source": [
    "import math\n",
    "import pandas as pd\n",
    "import numpy as np\n",
    "import os"
   ]
  },
  {
   "cell_type": "code",
   "execution_count": 82,
   "metadata": {},
   "outputs": [],
   "source": [
    "import warnings\n",
    "warnings.simplefilter(action='ignore', category=FutureWarning)"
   ]
  },
  {
   "cell_type": "markdown",
   "metadata": {},
   "source": [
    "## <font color='cyan'>Initializing Variables</font>"
   ]
  },
  {
   "cell_type": "code",
   "execution_count": 83,
   "metadata": {},
   "outputs": [],
   "source": [
    "heading = {\n",
    "    \"u.data\" : ['user_id', 'movie_id', 'rating', 'timestamp'] ,\n",
    "    \"u.genre\" : ['genre' , 'genre_id'] ,\n",
    "    \"u.item\" : [\"movie_id\" , \"movie_title\" , \"release_date\"  , \n",
    "                \"video_release_date\" , \"IMDb_URL\" , \"unknown\" , \n",
    "                \"Action\" , \"Adventure\" , \"Animation\" , \"Children's\" , \n",
    "                \"Comedy\" , \"Crime\" , \"Documentary\" , \"Drama\" , \"Fantasy\" , \n",
    "                \"Film-Noir\" , \"Horror\" , \"Musical\" , \"Mystery\" , \"Romance\" , \n",
    "                \"Sci-Fi\" , \"Thriller\" , \"War\" , \"Western\"] ,\n",
    "    \"u.occupation\" : [\"occupation\"] ,\n",
    "    \"u.user\" : [\"user id\" , \"age\" , \"gender\" , \"occupation\" , \"zip code\"] ,\n",
    "    \"u1.base\" : ['user_id', 'movie_id', 'rating', 'timestamp'] , \n",
    "    \"u1.test\" : ['user_id', 'movie_id', 'rating', 'timestamp'] , \n",
    "    \"u2.base\" : ['user_id', 'movie_id', 'rating', 'timestamp'] , \n",
    "    \"u2.test\" : ['user_id', 'movie_id', 'rating', 'timestamp'] , \n",
    "    \"u3.base\" : ['user_id', 'movie_id', 'rating', 'timestamp'] , \n",
    "    \"u3.test\" : ['user_id', 'movie_id', 'rating', 'timestamp'] , \n",
    "    \"u4.base\" : ['user_id', 'movie_id', 'rating', 'timestamp'] , \n",
    "    \"u4.test\" : ['user_id', 'movie_id', 'rating', 'timestamp'] , \n",
    "    \"u5.base\" : ['user_id', 'movie_id', 'rating', 'timestamp'] , \n",
    "    \"u5.test\" : ['user_id', 'movie_id', 'rating', 'timestamp'] , \n",
    "}\n",
    "\n",
    "delimiter = {\n",
    "    \"u.data\" : '\\t' ,\n",
    "    \"u.genre\" : '|' ,\n",
    "    \"u.item\" : '|' ,\n",
    "    \"u.occupation\" : ' ' ,\n",
    "    \"u.user\" : '|' ,\n",
    "    \"u1.base\" : '\\t' ,\n",
    "    \"u1.test\" : '\\t' ,\n",
    "    \"u2.base\" : '\\t' ,\n",
    "    \"u2.test\" : '\\t' ,\n",
    "    \"u3.base\" : '\\t' ,\n",
    "    \"u3.test\" : '\\t' ,\n",
    "    \"u4.base\" : '\\t' ,\n",
    "    \"u4.test\" : '\\t' ,\n",
    "    \"u5.base\" : '\\t' ,\n",
    "    \"u5.test\" : '\\t' ,   \n",
    "\n",
    "}"
   ]
  },
  {
   "cell_type": "code",
   "execution_count": 84,
   "metadata": {},
   "outputs": [],
   "source": [
    "USERS = 943\n",
    "MOVIES = 1682\n",
    "\n",
    "FOLDS = 5\n",
    "CLUSTERS = [5 , 10 , 20]\n",
    "CLUSTER_SIZE = len(CLUSTERS)\n",
    "\n",
    "TRAIN_SIZE = 755\n",
    "TEST_SIZE = 188"
   ]
  },
  {
   "cell_type": "markdown",
   "metadata": {},
   "source": [
    "## <font color='cyan'>Reading Data</font>"
   ]
  },
  {
   "cell_type": "code",
   "execution_count": 85,
   "metadata": {},
   "outputs": [],
   "source": [
    "def read_data(path , file_name , delim , heading):\n",
    "    data = pd.read_csv(os.path.join(path, file_name), delim , names = heading , encoding=\"ISO-8859-1\")\n",
    "    return data"
   ]
  },
  {
   "cell_type": "code",
   "execution_count": 86,
   "metadata": {},
   "outputs": [],
   "source": [
    "def read_file(file):\n",
    "    return read_data(\"Data/ml-100k/\" , file , delimiter[file] , heading[file])"
   ]
  },
  {
   "cell_type": "code",
   "execution_count": 87,
   "metadata": {},
   "outputs": [],
   "source": [
    "from sklearn.metrics.pairwise import cosine_similarity\n",
    "from sklearn.metrics import mean_absolute_error , accuracy_score\n",
    "def mae_calculation(actual , predicted):\n",
    "    return mean_absolute_error(actual, predicted)"
   ]
  },
  {
   "cell_type": "markdown",
   "metadata": {},
   "source": [
    "## <font color='cyan'>Preprocessing Data</font>"
   ]
  },
  {
   "cell_type": "code",
   "execution_count": 88,
   "metadata": {},
   "outputs": [],
   "source": [
    "def rating_matrix():\n",
    "\n",
    "    ratings = read_file('u.data')\n",
    "\n",
    "    rating_data = np.zeros(shape = (USERS+1 , MOVIES+1) , dtype = int)\n",
    "\n",
    "    for i in ratings.index:\n",
    "        user = ratings['user_id'][i]\n",
    "        movie = ratings['movie_id'][i]\n",
    "        rating_data[user][movie] = ratings['rating'][i]\n",
    "\n",
    "    return rating_data\n",
    "\n",
    "rating_data = rating_matrix()"
   ]
  },
  {
   "cell_type": "code",
   "execution_count": 89,
   "metadata": {},
   "outputs": [],
   "source": [
    "def dict_generator():\n",
    "\n",
    "    dict_age = {}\n",
    "\n",
    "    for i in range(0,100):\n",
    "\n",
    "        if i<13:\n",
    "            dict_age[i]=0\n",
    "        elif i>=13 and i<=20:\n",
    "            dict_age[i]=1\n",
    "        elif i>=21 and i<=30:\n",
    "            dict_age[i]=2\n",
    "        elif i>=31 and i<=40:\n",
    "            dict_age[i]=3\n",
    "        elif i>=41 and i<=50:\n",
    "            dict_age[i]=4\n",
    "        elif i>=51 and i<=60:\n",
    "            dict_age[i]=5\n",
    "        else:\n",
    "            dict_age[i]=6\n",
    "\n",
    "    dict_gen = {}\n",
    "\n",
    "    dict_gen['M'] = 0\n",
    "    dict_gen['F'] = 1\n",
    "\n",
    "    occupations = read_file(\"u.occupation\")\n",
    "\n",
    "    dict_occ = {}\n",
    "\n",
    "    for i in occupations.index:\n",
    "        dict_occ[occupations.iloc[i]['occupation']] = i\n",
    "\n",
    "    \n",
    "    return dict_age , dict_gen , dict_occ\n",
    "\n",
    "dict_age , dict_gen , dict_occ = dict_generator()"
   ]
  },
  {
   "cell_type": "code",
   "execution_count": 90,
   "metadata": {},
   "outputs": [],
   "source": [
    "def data_reader():\n",
    "\n",
    "    data_set = read_file('u.user')\n",
    "\n",
    "    data_set = data_set.sample(frac=1 , random_state=0).reset_index(drop=True)\n",
    "\n",
    "    return data_set\n",
    "\n",
    "data_set = data_reader()"
   ]
  },
  {
   "cell_type": "markdown",
   "metadata": {},
   "source": [
    "## <font color='cyan'>Splitting Data</font>"
   ]
  },
  {
   "cell_type": "code",
   "execution_count": 91,
   "metadata": {},
   "outputs": [],
   "source": [
    "def data_split(data , fold):\n",
    "\n",
    "    start = (fold-1)*TEST_SIZE\n",
    "\n",
    "    test = data.iloc[start : start + TEST_SIZE]\n",
    "    train = data.drop(test.index)\n",
    "\n",
    "    return test , train"
   ]
  },
  {
   "cell_type": "code",
   "execution_count": 92,
   "metadata": {},
   "outputs": [],
   "source": [
    "def data_generator(data_pre , size):\n",
    "\n",
    "    data_arr = np.zeros(shape=(size,30) , dtype=int)\n",
    "    uids = []\n",
    "\n",
    "    for i in range(size):\n",
    "\n",
    "        uid = data_pre.iloc[i]['user id']\n",
    "        age = data_pre.iloc[i]['age']\n",
    "        gen = data_pre.iloc[i]['gender']\n",
    "        occ = data_pre.iloc[i]['occupation']\n",
    "\n",
    "        data_arr[i][dict_age[age]] = 1\n",
    "        data_arr[i][dict_gen[gen] + 7] = 1\n",
    "        data_arr[i][dict_occ[occ] + 9] = 1\n",
    "\n",
    "        uids.append(uid)\n",
    "\n",
    "    return data_arr , uids"
   ]
  },
  {
   "cell_type": "markdown",
   "metadata": {},
   "source": [
    "## <font color='cyan'>Crisp K-Means</font>"
   ]
  },
  {
   "cell_type": "code",
   "execution_count": 93,
   "metadata": {},
   "outputs": [],
   "source": [
    "from sklearn.cluster import KMeans\n",
    "\n",
    "def crip_k_means(data , data_uids , cluster_size):\n",
    "\n",
    "    kmeans = KMeans(n_clusters=cluster_size, random_state=0).fit(data)\n",
    "\n",
    "    cluster_movie_data = np.zeros(shape = (cluster_size+1 , MOVIES+1) , dtype=float)\n",
    "    cluster_movie_count = np.zeros(shape = (cluster_size+1 , MOVIES+1) , dtype=float)\n",
    "\n",
    "    for i in range(1 , cluster_size+1):\n",
    "        user = 0\n",
    "        for j in kmeans.labels_:\n",
    "            if j==i-1:\n",
    "                uid = data_uids[user]\n",
    "                mov = 0\n",
    "                for k in rating_data[uid]:\n",
    "                    if k!=0:\n",
    "                        cluster_movie_data[i][mov] += k\n",
    "                        cluster_movie_count[i][mov] += 1\n",
    "                    mov+=1\n",
    "            user+=1\n",
    "\n",
    "    for i in range(1,cluster_size+1):\n",
    "        for j in range(1,MOVIES+1):\n",
    "            if cluster_movie_count[i][j]!=0:\n",
    "                cluster_movie_data[i][j] /= cluster_movie_count[i][j]\n",
    "            else:\n",
    "                cluster_movie_data[i][j] = 3\n",
    "\n",
    "    return kmeans , cluster_movie_data"
   ]
  },
  {
   "cell_type": "markdown",
   "metadata": {},
   "source": [
    "## <font color='cyan'>Fuzzy C-Means</font>"
   ]
  },
  {
   "cell_type": "code",
   "execution_count": 94,
   "metadata": {},
   "outputs": [],
   "source": [
    "from fcmeans import FCM\n",
    "\n",
    "def fuzzy_c_means(data , data_uids , cluster_size):\n",
    "\n",
    "    fcm = FCM(n_clusters=cluster_size , random_state=0)\n",
    "    fcm.fit(data)\n",
    "\n",
    "    cluster_scores = fcm.u\n",
    "\n",
    "    cluster_movie_data = np.zeros(shape = (cluster_size+1 , MOVIES+1) , dtype=float)\n",
    "    cluster_movie_count = np.zeros(shape = (cluster_size+1 , MOVIES+1) , dtype=float)\n",
    "\n",
    "    for i in range(1 , cluster_size+1):\n",
    "        for j in range(TRAIN_SIZE):\n",
    "            uid = data_uids[j]\n",
    "            mov = 0\n",
    "            for k in rating_data[uid]:\n",
    "                if k!=0:\n",
    "                    cluster_movie_data[i][mov] += k*cluster_scores[j][i-1]\n",
    "                    cluster_movie_count[i][mov] += cluster_scores[j][i-1]\n",
    "                mov+=1\n",
    "\n",
    "    for i in range(1,cluster_size+1):\n",
    "        for j in range(1,MOVIES+1):\n",
    "            if cluster_movie_count[i][j]!=0:\n",
    "                cluster_movie_data[i][j] /= cluster_movie_count[i][j]\n",
    "            else:\n",
    "                cluster_movie_data[i][j] = 3\n",
    "\n",
    "    return fcm , cluster_movie_data"
   ]
  },
  {
   "cell_type": "markdown",
   "metadata": {},
   "source": [
    "## <font color='cyan'>Prediction</font>"
   ]
  },
  {
   "cell_type": "code",
   "execution_count": 95,
   "metadata": {},
   "outputs": [],
   "source": [
    "def predictions(data , data_uids , model , cluster_data):\n",
    "\n",
    "    prediction_cluster = model.predict(data)\n",
    "\n",
    "    actual = []\n",
    "    prediction = []\n",
    "\n",
    "    j=0\n",
    "    for i in data_uids:\n",
    "\n",
    "        cluster = prediction_cluster[j]\n",
    "        mov = 0\n",
    "\n",
    "        for k in rating_data[i]:\n",
    "\n",
    "            if k==0:\n",
    "                mov+=1\n",
    "                continue\n",
    "\n",
    "            actual.append(k)\n",
    "            prediction.append(round(cluster_data[cluster+1][mov]))\n",
    "\n",
    "            mov+=1\n",
    "\n",
    "        j+=1\n",
    "\n",
    "    return actual , prediction"
   ]
  },
  {
   "cell_type": "markdown",
   "metadata": {},
   "source": [
    "## <font color='cyan'>Calculating Results</font>"
   ]
  },
  {
   "cell_type": "code",
   "execution_count": 96,
   "metadata": {},
   "outputs": [],
   "source": [
    "def output_results():\n",
    "\n",
    "    crisp = np.zeros(shape=(FOLDS+1 , CLUSTER_SIZE) , dtype=float)\n",
    "    fuzzy = np.zeros(shape=(FOLDS+1 , CLUSTER_SIZE) , dtype=float)\n",
    "\n",
    "    for f in range(1 , FOLDS+1):\n",
    "\n",
    "        test , train = data_split(data_set , f)\n",
    "\n",
    "        data_train , train_uids = data_generator(train , TRAIN_SIZE)\n",
    "        data_test , test_uids = data_generator(test , TEST_SIZE)\n",
    "        \n",
    "        for c in range(CLUSTER_SIZE):\n",
    "\n",
    "            kmeans , cluster_data = crip_k_means(data_train , train_uids , CLUSTERS[c])\n",
    "            actual , prediction = predictions(data_test , test_uids , kmeans , cluster_data)\n",
    "            crisp[f][c] =  mae_calculation(actual , prediction)\n",
    "\n",
    "            fcm , cluster_data = fuzzy_c_means(data_train , train_uids , CLUSTERS[c])\n",
    "            actual , prediction = predictions(data_test , test_uids , fcm , cluster_data)\n",
    "            fuzzy[f][c] =  mae_calculation(actual , prediction)\n",
    "\n",
    "    \n",
    "    return crisp , fuzzy"
   ]
  },
  {
   "cell_type": "markdown",
   "metadata": {},
   "source": [
    "## <font color='cyan'>Create Tables</font>"
   ]
  },
  {
   "cell_type": "code",
   "execution_count": 97,
   "metadata": {},
   "outputs": [],
   "source": [
    "def table_generator():\n",
    "\n",
    "    crisp_col_heads = []\n",
    "    for i in CLUSTERS:\n",
    "        st = \"K=\" + str(i)\n",
    "        crisp_col_heads.append(st)\n",
    "\n",
    "    fuzzy_col_heads = []\n",
    "    for i in CLUSTERS:\n",
    "        st = \"C=\" + str(i)\n",
    "        fuzzy_col_heads.append(st)\n",
    "\n",
    "    row_heads = []\n",
    "    for i in range(1,FOLDS+1):\n",
    "        st = \"Fold \" + str(i)\n",
    "        row_heads.append(st)\n",
    "    row_heads.append('Average')\n",
    "\n",
    "    crisp , fuzzy = output_results()\n",
    "\n",
    "    crisp_table = pd.DataFrame(columns=crisp_col_heads)\n",
    "    fuzzy_table = pd.DataFrame(columns=fuzzy_col_heads)\n",
    "\n",
    "    c_di = {}\n",
    "    for i in crisp_col_heads:\n",
    "        c_di[i] = 0\n",
    "\n",
    "    f_di = {}\n",
    "    for i in fuzzy_col_heads:\n",
    "        f_di[i] = 0\n",
    "\n",
    "    for i in range(FOLDS+1):\n",
    "        crisp_table = crisp_table.append(c_di , ignore_index=True)\n",
    "        fuzzy_table = fuzzy_table.append(f_di , ignore_index=True)\n",
    "\n",
    "    for i in range(1 , FOLDS+1):\n",
    "        crisp_table.iloc[i-1] = crisp[i]\n",
    "        fuzzy_table.iloc[i-1] = fuzzy[i]\n",
    "\n",
    "    crisp_average = []\n",
    "    for j in range(CLUSTER_SIZE):\n",
    "        csum = 0\n",
    "        for i in range(1 , FOLDS+1):\n",
    "            csum += crisp[i][j]\n",
    "        crisp_average.append(csum/5)\n",
    "\n",
    "    fuzzy_average = []\n",
    "    for j in range(CLUSTER_SIZE):\n",
    "        fsum = 0\n",
    "        for i in range(1 , FOLDS+1):\n",
    "            fsum += fuzzy[i][j]\n",
    "        fuzzy_average.append(fsum/5)\n",
    "\n",
    "    crisp_table.iloc[FOLDS] = crisp_average\n",
    "    fuzzy_table.iloc[FOLDS] = fuzzy_average\n",
    "\n",
    "    crisp_table.index = row_heads\n",
    "    fuzzy_table.index = row_heads\n",
    "\n",
    "    return crisp_table , fuzzy_table"
   ]
  },
  {
   "cell_type": "code",
   "execution_count": 98,
   "metadata": {},
   "outputs": [],
   "source": [
    "crisp_table , fuzzy_table = table_generator()"
   ]
  },
  {
   "cell_type": "code",
   "execution_count": 99,
   "metadata": {},
   "outputs": [
    {
     "data": {
      "text/html": [
       "<style type=\"text/css\">\n",
       "#T_51824 caption {\n",
       "  color: cyan;\n",
       "  font-size: 20px;\n",
       "}\n",
       "</style>\n",
       "<table id=\"T_51824\">\n",
       "  <caption>Table: Crisp K-Means Clustering</caption>\n",
       "  <thead>\n",
       "    <tr>\n",
       "      <th class=\"blank level0\" >&nbsp;</th>\n",
       "      <th id=\"T_51824_level0_col0\" class=\"col_heading level0 col0\" >K=5</th>\n",
       "      <th id=\"T_51824_level0_col1\" class=\"col_heading level0 col1\" >K=10</th>\n",
       "      <th id=\"T_51824_level0_col2\" class=\"col_heading level0 col2\" >K=20</th>\n",
       "    </tr>\n",
       "  </thead>\n",
       "  <tbody>\n",
       "    <tr>\n",
       "      <th id=\"T_51824_level0_row0\" class=\"row_heading level0 row0\" >Fold 1</th>\n",
       "      <td id=\"T_51824_row0_col0\" class=\"data row0 col0\" >0.814964</td>\n",
       "      <td id=\"T_51824_row0_col1\" class=\"data row0 col1\" >0.833601</td>\n",
       "      <td id=\"T_51824_row0_col2\" class=\"data row0 col2\" >0.864075</td>\n",
       "    </tr>\n",
       "    <tr>\n",
       "      <th id=\"T_51824_level0_row1\" class=\"row_heading level0 row1\" >Fold 2</th>\n",
       "      <td id=\"T_51824_row1_col0\" class=\"data row1 col0\" >0.804468</td>\n",
       "      <td id=\"T_51824_row1_col1\" class=\"data row1 col1\" >0.822784</td>\n",
       "      <td id=\"T_51824_row1_col2\" class=\"data row1 col2\" >0.841602</td>\n",
       "    </tr>\n",
       "    <tr>\n",
       "      <th id=\"T_51824_level0_row2\" class=\"row_heading level0 row2\" >Fold 3</th>\n",
       "      <td id=\"T_51824_row2_col0\" class=\"data row2 col0\" >0.814117</td>\n",
       "      <td id=\"T_51824_row2_col1\" class=\"data row2 col1\" >0.833988</td>\n",
       "      <td id=\"T_51824_row2_col2\" class=\"data row2 col2\" >0.850382</td>\n",
       "    </tr>\n",
       "    <tr>\n",
       "      <th id=\"T_51824_level0_row3\" class=\"row_heading level0 row3\" >Fold 4</th>\n",
       "      <td id=\"T_51824_row3_col0\" class=\"data row3 col0\" >0.779515</td>\n",
       "      <td id=\"T_51824_row3_col1\" class=\"data row3 col1\" >0.797933</td>\n",
       "      <td id=\"T_51824_row3_col2\" class=\"data row3 col2\" >0.812925</td>\n",
       "    </tr>\n",
       "    <tr>\n",
       "      <th id=\"T_51824_level0_row4\" class=\"row_heading level0 row4\" >Fold 5</th>\n",
       "      <td id=\"T_51824_row4_col0\" class=\"data row4 col0\" >0.790836</td>\n",
       "      <td id=\"T_51824_row4_col1\" class=\"data row4 col1\" >0.806714</td>\n",
       "      <td id=\"T_51824_row4_col2\" class=\"data row4 col2\" >0.831904</td>\n",
       "    </tr>\n",
       "    <tr>\n",
       "      <th id=\"T_51824_level0_row5\" class=\"row_heading level0 row5\" >Average</th>\n",
       "      <td id=\"T_51824_row5_col0\" class=\"data row5 col0\" >0.800780</td>\n",
       "      <td id=\"T_51824_row5_col1\" class=\"data row5 col1\" >0.819004</td>\n",
       "      <td id=\"T_51824_row5_col2\" class=\"data row5 col2\" >0.840177</td>\n",
       "    </tr>\n",
       "  </tbody>\n",
       "</table>\n"
      ],
      "text/plain": [
       "<pandas.io.formats.style.Styler at 0x146a0ba1ab0>"
      ]
     },
     "execution_count": 99,
     "metadata": {},
     "output_type": "execute_result"
    }
   ],
   "source": [
    "show_crisp_table = crisp_table.style.set_caption(\"Table: Crisp K-Means Clustering\").set_table_styles([{\n",
    "    'selector': 'caption',\n",
    "    'props': [\n",
    "        ('color', 'cyan'),\n",
    "        ('font-size', '20px')\n",
    "    ]\n",
    "}])\n",
    "show_crisp_table"
   ]
  },
  {
   "cell_type": "code",
   "execution_count": 100,
   "metadata": {},
   "outputs": [
    {
     "data": {
      "text/html": [
       "<style type=\"text/css\">\n",
       "#T_85c95 caption {\n",
       "  color: cyan;\n",
       "  font-size: 20px;\n",
       "}\n",
       "</style>\n",
       "<table id=\"T_85c95\">\n",
       "  <caption>Table: Fuzzy C-Means Clustering</caption>\n",
       "  <thead>\n",
       "    <tr>\n",
       "      <th class=\"blank level0\" >&nbsp;</th>\n",
       "      <th id=\"T_85c95_level0_col0\" class=\"col_heading level0 col0\" >C=5</th>\n",
       "      <th id=\"T_85c95_level0_col1\" class=\"col_heading level0 col1\" >C=10</th>\n",
       "      <th id=\"T_85c95_level0_col2\" class=\"col_heading level0 col2\" >C=20</th>\n",
       "    </tr>\n",
       "  </thead>\n",
       "  <tbody>\n",
       "    <tr>\n",
       "      <th id=\"T_85c95_level0_row0\" class=\"row_heading level0 row0\" >Fold 1</th>\n",
       "      <td id=\"T_85c95_row0_col0\" class=\"data row0 col0\" >0.797933</td>\n",
       "      <td id=\"T_85c95_row0_col1\" class=\"data row0 col1\" >0.797933</td>\n",
       "      <td id=\"T_85c95_row0_col2\" class=\"data row0 col2\" >0.797933</td>\n",
       "    </tr>\n",
       "    <tr>\n",
       "      <th id=\"T_85c95_level0_row1\" class=\"row_heading level0 row1\" >Fold 2</th>\n",
       "      <td id=\"T_85c95_row1_col0\" class=\"data row1 col0\" >0.784090</td>\n",
       "      <td id=\"T_85c95_row1_col1\" class=\"data row1 col1\" >0.784140</td>\n",
       "      <td id=\"T_85c95_row1_col2\" class=\"data row1 col2\" >0.784190</td>\n",
       "    </tr>\n",
       "    <tr>\n",
       "      <th id=\"T_85c95_level0_row2\" class=\"row_heading level0 row2\" >Fold 3</th>\n",
       "      <td id=\"T_85c95_row2_col0\" class=\"data row2 col0\" >0.801517</td>\n",
       "      <td id=\"T_85c95_row2_col1\" class=\"data row2 col1\" >0.801563</td>\n",
       "      <td id=\"T_85c95_row2_col2\" class=\"data row2 col2\" >0.801517</td>\n",
       "    </tr>\n",
       "    <tr>\n",
       "      <th id=\"T_85c95_level0_row3\" class=\"row_heading level0 row3\" >Fold 4</th>\n",
       "      <td id=\"T_85c95_row3_col0\" class=\"data row3 col0\" >0.767736</td>\n",
       "      <td id=\"T_85c95_row3_col1\" class=\"data row3 col1\" >0.767843</td>\n",
       "      <td id=\"T_85c95_row3_col2\" class=\"data row3 col2\" >0.767896</td>\n",
       "    </tr>\n",
       "    <tr>\n",
       "      <th id=\"T_85c95_level0_row4\" class=\"row_heading level0 row4\" >Fold 5</th>\n",
       "      <td id=\"T_85c95_row4_col0\" class=\"data row4 col0\" >0.768341</td>\n",
       "      <td id=\"T_85c95_row4_col1\" class=\"data row4 col1\" >0.768341</td>\n",
       "      <td id=\"T_85c95_row4_col2\" class=\"data row4 col2\" >0.768243</td>\n",
       "    </tr>\n",
       "    <tr>\n",
       "      <th id=\"T_85c95_level0_row5\" class=\"row_heading level0 row5\" >Average</th>\n",
       "      <td id=\"T_85c95_row5_col0\" class=\"data row5 col0\" >0.783923</td>\n",
       "      <td id=\"T_85c95_row5_col1\" class=\"data row5 col1\" >0.783964</td>\n",
       "      <td id=\"T_85c95_row5_col2\" class=\"data row5 col2\" >0.783956</td>\n",
       "    </tr>\n",
       "  </tbody>\n",
       "</table>\n"
      ],
      "text/plain": [
       "<pandas.io.formats.style.Styler at 0x146a0ba1d80>"
      ]
     },
     "execution_count": 100,
     "metadata": {},
     "output_type": "execute_result"
    }
   ],
   "source": [
    "show_fuzzy_table = fuzzy_table.style.set_caption(\"Table: Fuzzy C-Means Clustering\").set_table_styles([{\n",
    "    'selector': 'caption',\n",
    "    'props': [\n",
    "        ('color', 'cyan'),\n",
    "        ('font-size', '20px')\n",
    "    ]\n",
    "}])\n",
    "show_fuzzy_table"
   ]
  }
 ],
 "metadata": {
  "interpreter": {
   "hash": "587a36035aa7d8400551822cbd493a31069819712b1b730ffb848063044895c7"
  },
  "kernelspec": {
   "display_name": "Python 3.10.1 64-bit",
   "language": "python",
   "name": "python3"
  },
  "language_info": {
   "codemirror_mode": {
    "name": "ipython",
    "version": 3
   },
   "file_extension": ".py",
   "mimetype": "text/x-python",
   "name": "python",
   "nbconvert_exporter": "python",
   "pygments_lexer": "ipython3",
   "version": "3.10.1"
  },
  "orig_nbformat": 4
 },
 "nbformat": 4,
 "nbformat_minor": 2
}
